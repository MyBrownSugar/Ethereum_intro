{
 "cells": [
  {
   "cell_type": "code",
   "execution_count": 2,
   "metadata": {},
   "outputs": [],
   "source": [
    "import web3\n",
    "\n",
    "import sys,os,os.path\n",
    "os.environ['WEB3_INFURA_PROJECT_ID']='29e0de967f19435d988d295fcb8a274b'\n",
    "\n",
    "from tqdm import tqdm\n",
    "\n",
    "from web3.auto.infura import w3"
   ]
  },
  {
   "cell_type": "code",
   "execution_count": 3,
   "metadata": {},
   "outputs": [],
   "source": [
    "\n",
    "num_from = 8957400\n",
    "num_until = 8958400\n",
    "\n",
    "gwei_for_block = 2000000000\n",
    "\n",
    "#blocks_dict = {}"
   ]
  },
  {
   "cell_type": "code",
   "execution_count": 4,
   "metadata": {},
   "outputs": [],
   "source": [
    "#Comission (in gwei = 10^9 wei) for every single block\n",
    "def calculate_gv(current_block):\n",
    "    current_transactions = current_block['transactions']\n",
    "    sum = 0\n",
    "    for i in range(len(current_transactions)):\n",
    "        transaction_atrs = w3.eth.getTransaction(current_transactions[i])\n",
    "        gv = transaction_atrs['gas'] * transaction_atrs['gasPrice']\n",
    "        sum = sum + gv\n",
    "    return sum"
   ]
  },
  {
   "cell_type": "code",
   "execution_count": 5,
   "metadata": {},
   "outputs": [],
   "source": [
    "#First step of our calculations - get list of blocks\n",
    "blocks_dict = {}\n",
    "def get_blocks(num_from, num_until):\n",
    "    for number in tqdm(range(num_from, num_until)):\n",
    "        blocks_dict[number] = w3.eth.getBlock(number)\n",
    "    return len(blocks_dict)"
   ]
  },
  {
   "cell_type": "code",
   "execution_count": 6,
   "metadata": {},
   "outputs": [
    {
     "name": "stderr",
     "output_type": "stream",
     "text": [
      "100%|██████████| 1000/1000 [03:12<00:00,  5.19it/s]\n"
     ]
    },
    {
     "data": {
      "text/plain": [
       "1000"
      ]
     },
     "execution_count": 6,
     "metadata": {},
     "output_type": "execute_result"
    }
   ],
   "source": [
    "get_blocks(num_from, num_until)"
   ]
  },
  {
   "cell_type": "code",
   "execution_count": 7,
   "metadata": {},
   "outputs": [],
   "source": [
    "#Second step is count gv for every single block\n",
    "gv_dict = {}\n",
    "def to_gv_dict(blocks_dict):\n",
    "    for number in tqdm(range(num_from, num_until)):\n",
    "        gv_dict[number] = calculate_gv(blocks_dict[number])\n",
    "    return len(gv_dict)"
   ]
  },
  {
   "cell_type": "code",
   "execution_count": 8,
   "metadata": {},
   "outputs": [
    {
     "name": "stderr",
     "output_type": "stream",
     "text": [
      "100%|██████████| 1000/1000 [4:29:48<00:00, 16.19s/it] \n"
     ]
    },
    {
     "data": {
      "text/plain": [
       "1000"
      ]
     },
     "execution_count": 8,
     "metadata": {},
     "output_type": "execute_result"
    }
   ],
   "source": [
    "to_gv_dict(blocks_dict)\n"
   ]
  },
  {
   "cell_type": "code",
   "execution_count": 9,
   "metadata": {},
   "outputs": [],
   "source": [
    "import matplotlib.pyplot as plt\n",
    "%matplotlib inline\n",
    "\n",
    "plt.style.use('ggplot')\n",
    "plt.rcParams['figure.figsize'] = (25,15)"
   ]
  },
  {
   "cell_type": "code",
   "execution_count": 10,
   "metadata": {},
   "outputs": [],
   "source": [
    "from sklearn.linear_model import LinearRegression\n",
    "\n",
    "def l_r(x, y):\n",
    "    x = np.array(x).reshape((-1,1))#Модуль требует вектор столбец\n",
    "    y = np.array(y)\n",
    "    model = LinearRegression()\n",
    "    model.fit(x, y)\n",
    "    r_sq = model.predict(x)\n",
    "    return r_sq"
   ]
  },
  {
   "cell_type": "code",
   "execution_count": 11,
   "metadata": {},
   "outputs": [
    {
     "data": {
      "text/plain": [
       "[<matplotlib.lines.Line2D at 0x1a1d80cf50>]"
      ]
     },
     "execution_count": 11,
     "metadata": {},
     "output_type": "execute_result"
    },
    {
     "data": {
      "image/png": "[encoded data removed]",
      "text/plain": [
       "<Figure size 432x288 with 1 Axes>"
      ]
     },
     "metadata": {
      "needs_background": "light"
     },
     "output_type": "display_data"
    }
   ],
   "source": [
    "#Linear regression of comissions\n",
    "import numpy as np\n",
    "gv_list = list(gv_dict)\n",
    "plt.plot(range(num_from,num_until), gv_list, 'go')\n",
    "plt.title('Linear regression')\n",
    "plt.xlabel('Block number')\n",
    "plt.ylabel('Comission')\n",
    "predicted_response=l_r(range(num_from, num_until), gv_list)\n",
    "plt.plot(range(num_from, num_until), predicted_response, 'g-')"
   ]
  },
  {
   "cell_type": "code",
   "execution_count": 13,
   "metadata": {},
   "outputs": [
    {
     "data": {
      "text/plain": [
       "Text(0, 0.5, 'Percentage')"
      ]
     },
     "execution_count": 13,
     "metadata": {},
     "output_type": "execute_result"
    },
    {
     "data": {
      "image/png": "[encoded data removed]",
      "text/plain": [
       "<Figure size 432x288 with 1 Axes>"
      ]
     },
     "metadata": {
      "needs_background": "light"
     },
     "output_type": "display_data"
    }
   ],
   "source": [
    "#Percentage (comission/gain*100)\n",
    "perc_list = []\n",
    "for i in gv_list:\n",
    "    perc_list.append(i/gwei_for_block*100)\n",
    "plt.plot(range(num_from,num_until), perc_list, 'go')\n",
    "plt.title('Percentage of block number')\n",
    "plt.xlabel('Block number')\n",
    "plt.ylabel('Percentage')\n"
   ]
  },
  {
   "cell_type": "code",
   "execution_count": 14,
   "metadata": {},
   "outputs": [],
   "source": [
    "\n",
    "\n",
    "p = 1/len(gv_list)\n",
    "\n",
    "import math\n",
    "\n",
    "\n",
    "\n",
    "def calculation(gv_list):\n",
    "    M = 0\n",
    "    D = 0\n",
    "    Q = 0\n",
    "    Me = 0\n",
    "    for i in gv_list:\n",
    "        M = M + p*i\n",
    "    for i in gv_list:\n",
    "        D = (i - M) * (i - M)\n",
    "    D = D * p\n",
    "    Q = math.sqrt(D)\n",
    "    Me = (max(gv_list) + min(gv_list))/2\n",
    "    print(M)\n",
    "    print(Me)\n",
    "    print(Q)\n",
    "    print(p)\n",
    "    "
   ]
  },
  {
   "cell_type": "code",
   "execution_count": 15,
   "metadata": {},
   "outputs": [
    {
     "name": "stdout",
     "output_type": "stream",
     "text": [
      "8957899.499999998\n",
      "8957899.5\n",
      "15.795576912599957\n",
      "0.001\n"
     ]
    }
   ],
   "source": [
    "calculation(gv_list)"
   ]
  },
  {
   "cell_type": "code",
   "execution_count": null,
   "metadata": {},
   "outputs": [],
   "source": []
  }
 ],
 "metadata": {
  "kernelspec": {
   "display_name": "Python 3",
   "language": "python",
   "name": "python3"
  },
  "language_info": {
   "codemirror_mode": {
    "name": "ipython",
    "version": 3
   },
   "file_extension": ".py",
   "mimetype": "text/x-python",
   "name": "python",
   "nbconvert_exporter": "python",
   "pygments_lexer": "ipython3",
   "version": "3.7.4"
  }
 },
 "nbformat": 4,
 "nbformat_minor": 4
}
